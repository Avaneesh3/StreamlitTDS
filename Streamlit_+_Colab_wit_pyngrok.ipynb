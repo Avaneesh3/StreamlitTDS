{
  "nbformat": 4,
  "nbformat_minor": 0,
  "metadata": {
    "colab": {
      "name": "Streamlit + Colab wit pyngrok",
      "provenance": [],
      "collapsed_sections": []
    },
    "kernelspec": {
      "name": "python3",
      "display_name": "Python 3"
    },
    "language_info": {
      "name": "python"
    }
  },
  "cells": [
    {
      "cell_type": "code",
      "metadata": {
        "id": "gs5d-jOeuvqZ"
      },
      "source": [
        "! pip install streamlit -q"
      ],
      "execution_count": 20,
      "outputs": []
    },
    {
      "cell_type": "markdown",
      "metadata": {
        "id": "HWNKZgLbSLsi"
      },
      "source": [
        "Write the cell python code into an app.py file"
      ]
    },
    {
      "cell_type": "code",
      "metadata": {
        "id": "gogGn3qEuxUt",
        "outputId": "969d8cb8-a145-4fd5-9b6c-c9614deacb50",
        "colab": {
          "base_uri": "https://localhost:8080/"
        }
      },
      "source": [
        "%%writefile app.py\n",
        "import streamlit as st\n",
        "import pandas as pd\n",
        "\n",
        "st.title('Multiply two numbers')\n",
        "title = st.text_input('Enter Number 1', '')\n",
        "title1 = st.text_input('Enter Number 2', '')\n",
        "\n",
        "if title and title1:\n",
        "    if st.button('Multiply'):\n",
        "        ans = float(title)*float(title1)\n",
        "        st.write(\"Multiplication of the two numbers is \" + str(ans) )"
      ],
      "execution_count": 21,
      "outputs": [
        {
          "output_type": "stream",
          "name": "stdout",
          "text": [
            "Overwriting app.py\n"
          ]
        }
      ]
    },
    {
      "cell_type": "code",
      "metadata": {
        "id": "DaUIzq8Nu4QZ",
        "outputId": "d2f04a31-16c9-4add-d21c-44a7a97a8b60",
        "colab": {
          "base_uri": "https://localhost:8080/"
        }
      },
      "source": [
        " ! pip install pyngrok"
      ],
      "execution_count": 22,
      "outputs": [
        {
          "output_type": "stream",
          "name": "stdout",
          "text": [
            "Looking in indexes: https://pypi.org/simple, https://us-python.pkg.dev/colab-wheels/public/simple/\n",
            "Requirement already satisfied: pyngrok in /usr/local/lib/python3.7/dist-packages (5.1.0)\n",
            "Requirement already satisfied: PyYAML in /usr/local/lib/python3.7/dist-packages (from pyngrok) (3.13)\n"
          ]
        }
      ]
    },
    {
      "cell_type": "code",
      "metadata": {
        "id": "Kkz6oohKvd4R"
      },
      "source": [
        "from pyngrok import ngrok"
      ],
      "execution_count": 23,
      "outputs": []
    },
    {
      "cell_type": "code",
      "source": [
        "ngrok.set_auth_token(\"2CNRrsmwjUr3bEssFkVb4XoM3ko_3jpnavCpWCKFhqABLbmu8\") #ngrok.com"
      ],
      "metadata": {
        "id": "By4KbSE657N_"
      },
      "execution_count": 24,
      "outputs": []
    },
    {
      "cell_type": "code",
      "metadata": {
        "id": "U0saJbOCvaNq",
        "outputId": "5830abb9-30c9-4de7-abf6-339abbbe5ab1",
        "colab": {
          "base_uri": "https://localhost:8080/"
        }
      },
      "source": [
        "!nohup streamlit run app.py --server.port 80 &\n",
        "url = ngrok.connect(port = '80')\n",
        "print(url)"
      ],
      "execution_count": 25,
      "outputs": [
        {
          "output_type": "stream",
          "name": "stdout",
          "text": [
            "nohup: appending output to 'nohup.out'\n",
            "NgrokTunnel: \"http://ff6f-34-80-93-100.ngrok.io\" -> \"http://localhost:80\"\n"
          ]
        }
      ]
    },
    {
      "cell_type": "code",
      "source": [
        "ngrok.connect(port = '8080')\n"
      ],
      "metadata": {
        "id": "VMgILxTm_IKJ",
        "outputId": "35760075-4704-4bbf-bef6-e9fefb40e315",
        "colab": {
          "base_uri": "https://localhost:8080/"
        }
      },
      "execution_count": 26,
      "outputs": [
        {
          "output_type": "execute_result",
          "data": {
            "text/plain": [
              "<NgrokTunnel: \"http://786f-34-80-93-100.ngrok.io\" -> \"http://localhost:80\">"
            ]
          },
          "metadata": {},
          "execution_count": 26
        }
      ]
    },
    {
      "cell_type": "code",
      "source": [
        "from pyngrok import ngrok\n",
        "\n",
        "tunnels = ngrok.get_tunnels()\n",
        "tunnels\n",
        "\n",
        "# try:\n",
        "#     # Block until CTRL-C or some other terminating event\n",
        "#     ngrok_process.proc.wait()\n",
        "# except KeyboardInterrupt:\n",
        "#     print(\" Shutting down server.\")\n",
        "\n",
        "#     ngrok.kill()"
      ],
      "metadata": {
        "id": "_DTLQgOa6H6B",
        "outputId": "0fa3e13d-9b9a-4702-f11d-fac7c9ac9ecf",
        "colab": {
          "base_uri": "https://localhost:8080/"
        }
      },
      "execution_count": 27,
      "outputs": [
        {
          "output_type": "execute_result",
          "data": {
            "text/plain": [
              "[<NgrokTunnel: \"https://ff6f-34-80-93-100.ngrok.io\" -> \"http://localhost:80\">,\n",
              " <NgrokTunnel: \"https://78e4-34-80-93-100.ngrok.io\" -> \"http://localhost:80\">,\n",
              " <NgrokTunnel: \"https://b458-34-80-93-100.ngrok.io\" -> \"http://localhost:80\">,\n",
              " <NgrokTunnel: \"http://b458-34-80-93-100.ngrok.io\" -> \"http://localhost:80\">,\n",
              " <NgrokTunnel: \"https://5640-34-80-93-100.ngrok.io\" -> \"http://localhost:80\">,\n",
              " <NgrokTunnel: \"http://b2ad-34-80-93-100.ngrok.io\" -> \"http://localhost:80\">,\n",
              " <NgrokTunnel: \"http://5640-34-80-93-100.ngrok.io\" -> \"http://localhost:80\">,\n",
              " <NgrokTunnel: \"https://786f-34-80-93-100.ngrok.io\" -> \"http://localhost:80\">,\n",
              " <NgrokTunnel: \"http://78e4-34-80-93-100.ngrok.io\" -> \"http://localhost:80\">,\n",
              " <NgrokTunnel: \"http://ff6f-34-80-93-100.ngrok.io\" -> \"http://localhost:80\">,\n",
              " <NgrokTunnel: \"http://786f-34-80-93-100.ngrok.io\" -> \"http://localhost:80\">,\n",
              " <NgrokTunnel: \"https://b2ad-34-80-93-100.ngrok.io\" -> \"http://localhost:80\">]"
            ]
          },
          "metadata": {},
          "execution_count": 27
        }
      ]
    },
    {
      "cell_type": "markdown",
      "metadata": {
        "id": "fnP63sVHxKT2"
      },
      "source": [
        "Run streamlit using `localtunnel` \n",
        "\n",
        "npm installation would take some time for the first time"
      ]
    },
    {
      "cell_type": "code",
      "metadata": {
        "id": "654JzyOJxRnJ"
      },
      "source": [
        ""
      ],
      "execution_count": 27,
      "outputs": []
    }
  ]
}